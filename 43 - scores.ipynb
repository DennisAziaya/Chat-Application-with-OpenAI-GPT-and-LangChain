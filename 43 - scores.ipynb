{
 "cells": [
  {
   "cell_type": "code",
   "execution_count": null,
   "metadata": {},
   "outputs": [],
   "source": [
    "# Import necessary modules\n",
    "from decouple import config\n",
    "from langchain.embeddings import OpenAIEmbeddings\n",
    "\n",
    "# Initialize OpenAIEmbeddings instance with the OpenAI API key from configuration\n",
    "embeddings = OpenAIEmbeddings(openai_api_key=config(\"OPENAI_API_KEY\"))"
   ]
  },
  {
   "cell_type": "code",
   "execution_count": null,
   "metadata": {
    "ExecuteTime": {
     "start_time": "2024-01-04T21:26:49.731558200Z"
    }
   },
   "outputs": [],
   "source": [
    "import numpy as np\n",
    "\n",
    "# Define a function to calculate the squared L2 distance between two vectors\n",
    "def calculate_l2(v1, v2):\n",
    "    return np.linalg.norm(v1 - v2) ** 2"
   ]
  },
  {
   "cell_type": "code",
   "execution_count": null,
   "metadata": {
    "ExecuteTime": {
     "start_time": "2024-01-04T21:26:49.732563100Z"
    }
   },
   "outputs": [],
   "source": [
    "import matplotlib.pyplot as plt\n",
    "import textwrap\n",
    "\n",
    "# Define a function to wrap labels for better visualization\n",
    "def wrap_labels(labels, width):\n",
    "    return [ '\\n'.join(textwrap.wrap(label, width)) for label in labels ]\n",
    "\n",
    "# Define a function to plot a heatmap based on the calculated distances\n",
    "def plot(data, words):\n",
    "    # Create a subplot\n",
    "    fig, ax = plt.subplots()\n",
    "    \n",
    "    # Display the heatmap with a blue color map\n",
    "    ax.imshow(data, cmap=\"Blues\")\n",
    "\n",
    "    # Wrap and set labels for both axes\n",
    "    labels = wrap_labels(words, 30)\n",
    "    ax.set_xticks(np.arange(len(words)), labels=labels)\n",
    "    ax.set_yticks(np.arange(len(words)), labels=labels)\n",
    "\n",
    "    # Set the x-axis ticks and labels at the top\n",
    "    ax.xaxis.tick_top()\n",
    "    ax.xaxis.set_label_position('top')\n",
    "\n",
    "    # Rotate x-axis labels for better readability\n",
    "    plt.setp(ax.get_xticklabels(), rotation=45, ha=\"left\",\n",
    "            rotation_mode=\"anchor\")\n",
    "\n",
    "    # Display the distance values in the heatmap cells\n",
    "    for i in range(len(words)):\n",
    "        for j in range(len(words)):\n",
    "            text = ax.text(j, i, round(data[i, j], 2),\n",
    "                        ha=\"center\", va=\"center\")\n",
    "\n",
    "    # Adjust layout for better visualization\n",
    "    fig.tight_layout()\n",
    "    # Show the plot\n",
    "    plt.show()"
   ]
  },
  {
   "cell_type": "code",
   "execution_count": null,
   "metadata": {
    "ExecuteTime": {
     "start_time": "2024-01-04T21:26:49.732563100Z"
    }
   },
   "outputs": [],
   "source": [
    "# Define a list of words for embedding and comparison\n",
    "words = [\n",
    "   \"Acknowledge that there are plans for your welfare and a hopeful future.\",\n",
    "    \"Find comfort in the assurance that your needs will be met.\",\n",
    "    \"Draw strength from the belief that you can overcome challenges with assistance.\"\n",
    "]\n",
    "\n",
    "# Embed the words using OpenAIEmbeddings\n",
    "embs = [\n",
    "    np.array(embeddings.embed_query(word)) for word in words\n",
    "]\n",
    "\n",
    "# Calculate the squared L2 distances between embedded words\n",
    "data = np.array([\n",
    "    [calculate_l2(e1,e2) for e1 in embs] for e2 in embs\n",
    "])\n",
    "\n",
    "# Plot the heatmap based on the calculated distances\n",
    "plot(data, words)"
   ]
  }
 ],
 "metadata": {
  "kernelspec": {
   "display_name": "Python 3",
   "language": "python",
   "name": "python3"
  },
  "language_info": {
   "codemirror_mode": {
    "name": "ipython",
    "version": 3
   },
   "file_extension": ".py",
   "mimetype": "text/x-python",
   "name": "python",
   "nbconvert_exporter": "python",
   "pygments_lexer": "ipython3",
   "version": "3.11.4"
  },
  "orig_nbformat": 4
 },
 "nbformat": 4,
 "nbformat_minor": 2
}
